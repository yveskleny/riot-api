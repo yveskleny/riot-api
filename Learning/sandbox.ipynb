{
 "cells": [
  {
   "cell_type": "code",
   "execution_count": 40,
   "metadata": {},
   "outputs": [],
   "source": [
    "from dotenv import load_dotenv\n",
    "import os\n",
    "import requests\n",
    "\n",
    "load_dotenv()\n",
    "\n",
    "api_key = os.environ.get('riot_api_key')\n",
    "\n",
    "\n",
    "def get_puuid(gameName = None, tagLine = None, api_key = None):\n",
    "\n",
    "    link = f'https://americas.api.riotgames.com/riot/account/v1/accounts/by-riot-id/{gameName}/{tagLine}?api_key={api_key}'\n",
    "\n",
    "    response = requests.get(link)\n",
    "\n",
    "    return response.json()['puuid']\n",
    "\n",
    "\n",
    "def get_name_and_tag(puuid=None, api_key=None):\n",
    "    link = f'https://americas.api.riotgames.com/riot/account/v1/accounts/by-puuid/{puuid}?api_key={api_key}'\n",
    "\n",
    "    response = requests.get(link)\n",
    "\n",
    "    gameName = response.json()['gameName']\n",
    "    tagLine = response.json()['tagLine']\n",
    "\n",
    "    return f'{gameName}#{tagLine}'"
   ]
  },
  {
   "cell_type": "code",
   "execution_count": null,
   "metadata": {},
   "outputs": [],
   "source": [
    "get_puuid(gameName='Kleny', tagLine='BR1', api_key=api_key)"
   ]
  },
  {
   "cell_type": "code",
   "execution_count": null,
   "metadata": {},
   "outputs": [],
   "source": [
    "get_name_and_tag(puuid='vDP4mFBvhEaaet227PMfXLZNffp6mDLlZ3vPuSiweOJB6XbqECsqiXPKDYaFM4S1nVFp73G4LNHEtw', api_key=api_key)"
   ]
  }
 ],
 "metadata": {
  "kernelspec": {
   "display_name": "riot-api-TYZIt92w-py3.13",
   "language": "python",
   "name": "python3"
  },
  "language_info": {
   "codemirror_mode": {
    "name": "ipython",
    "version": 3
   },
   "file_extension": ".py",
   "mimetype": "text/x-python",
   "name": "python",
   "nbconvert_exporter": "python",
   "pygments_lexer": "ipython3",
   "version": "3.13.0"
  }
 },
 "nbformat": 4,
 "nbformat_minor": 2
}
